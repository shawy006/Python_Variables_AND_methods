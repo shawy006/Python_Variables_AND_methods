{
 "cells": [
  {
   "cell_type": "code",
   "execution_count": 3,
   "id": "1f3a8954",
   "metadata": {},
   "outputs": [],
   "source": [
    "#                                      GLOBAL VARIABLES\n",
    "#                                ----------------------------\n",
    "# It can be created(declared) outside the class directly, also it can be created(declared) anywhere inside the class\n",
    "#  using  [global ] keyword.\n",
    "# It can be accessed anywhere in the entire program. (inside or outside the class)\n",
    "# syntax:  global var_name\n",
    "#          var_name= value"
   ]
  },
  {
   "cell_type": "code",
   "execution_count": null,
   "id": "6638aa31",
   "metadata": {},
   "outputs": [],
   "source": []
  },
  {
   "cell_type": "code",
   "execution_count": 4,
   "id": "f823ec0e",
   "metadata": {},
   "outputs": [],
   "source": [
    "#                                      INSTANCE VARIABLES\n",
    "#                                ------------------------------\n",
    "# It is object level variable.\n",
    "# FOR INSIDE CLASS:---\n",
    "# It can be created inside a constructor(using [self ]) or instance method(using [self ]). \n",
    "# It can accessed,modified,deleted [AMD] in instance method(using [self ]) only. \n",
    "#\n",
    "# FOR OUTSIDE CLASS:---\n",
    "# It can created,accessed,mofified,deleted [CAMD] outside the class (using [object reference ]).\n",
    "\n",
    "\n",
    "#CAMD - 3222\n"
   ]
  },
  {
   "cell_type": "code",
   "execution_count": null,
   "id": "a0b534a7",
   "metadata": {},
   "outputs": [],
   "source": []
  },
  {
   "cell_type": "code",
   "execution_count": 6,
   "id": "43d54796",
   "metadata": {},
   "outputs": [],
   "source": [
    "#                                      STATIC VARIABLE\n",
    "#                               ----------------------------\n",
    "# It is class level variable.\n",
    "# FOR INSIDE A CLASS:---\n",
    "# It can be created inside a constructor(using [classname ]), IM(using [classname ]), CM(using [classname, cls ]), \n",
    "#  SM(using [classname ]) , and even directly inside the class. \n",
    "# It can be accessed inside a constructor(using [classname ,self ]), IM(using [classname ,self ]), CM(using [classname, cls ]), \n",
    "#  SM(using [classname ]) \n",
    "# It can be modified inside a constructor(using [classname ]), IM(using [classname ]), CM(using [classname, cls ]), \n",
    "#  SM(using [classname ]) \n",
    "# It can be deleted inside a constructor(using [classname ]), IM(using [classname ]), CM(using [classname, cls ]), \n",
    "#  SM(using [classname ]) \n",
    "#\n",
    "# FOR OUTSIDE CLASS:\n",
    "# It can be created outside the class(using [classname ])\n",
    "# It can be accessed outside the class(using [classname , object reference])\n",
    "# It can be modified outside the class(using [classname ])\n",
    "# It can be deleted outside the class(using [classname ])\n",
    "\n",
    "\n",
    "#CAMD - 7966\n",
    "\n"
   ]
  },
  {
   "cell_type": "code",
   "execution_count": null,
   "id": "9adf43ab",
   "metadata": {},
   "outputs": [],
   "source": []
  },
  {
   "cell_type": "code",
   "execution_count": 7,
   "id": "822473c4",
   "metadata": {},
   "outputs": [],
   "source": [
    "#                                      LOCAL VARIABLE\n",
    "#                                 ----------------------\n",
    "# It is a method level variable.\n",
    "# Its scope is not beyond the method in which it is created.\n"
   ]
  },
  {
   "cell_type": "code",
   "execution_count": null,
   "id": "32702ad5",
   "metadata": {},
   "outputs": [],
   "source": []
  },
  {
   "cell_type": "code",
   "execution_count": null,
   "id": "bef010f6",
   "metadata": {},
   "outputs": [],
   "source": []
  },
  {
   "cell_type": "code",
   "execution_count": null,
   "id": "e83e3df4",
   "metadata": {},
   "outputs": [],
   "source": []
  },
  {
   "cell_type": "code",
   "execution_count": null,
   "id": "9844fb9d",
   "metadata": {},
   "outputs": [],
   "source": [
    "#                                           CONSTRUCTOR METHOD\n",
    "#                                      ---------------------------\n",
    "# It executes by default at the time of object creation.  \n",
    "# It can only create instance variables(using[self ]), CAMD static variables(using [classname ]).\n"
   ]
  },
  {
   "cell_type": "code",
   "execution_count": null,
   "id": "28c469e5",
   "metadata": {},
   "outputs": [],
   "source": []
  },
  {
   "cell_type": "code",
   "execution_count": 8,
   "id": "d74dfbdd",
   "metadata": {},
   "outputs": [],
   "source": [
    "#                                           INSTANCE METHOD\n",
    "#                                      -------------------------\n",
    "# It is object level method.\n",
    "# FOR INSIDE A CLASS:---\n",
    "# It can CAMD instance variables(using[self ]) , CAMD static variables(using [classname ]).\n",
    "# We can call other instance methods, class methods, static methods inside instance method.  ALL(using [self.method_name() ])\n",
    "#\n",
    "# FOR OUTSIDE A CLASS:---\n",
    "# We can call(access) instance method outside the class (using [object reference ]) only."
   ]
  },
  {
   "cell_type": "code",
   "execution_count": null,
   "id": "969f7c65",
   "metadata": {},
   "outputs": [],
   "source": []
  },
  {
   "cell_type": "code",
   "execution_count": null,
   "id": "bccc723c",
   "metadata": {},
   "outputs": [],
   "source": [
    "#                                            CLASS METHOD\n",
    "#                                       ----------------------\n",
    "# It is class level method.\n",
    "# FOR INSIDE A CLASS:---\n",
    "# We can not CAMD instance variables inside a class method ,but we can CAMD static variables inside \n",
    "#  class method(using [classname, cls]).\n",
    "# We can not call instance method inside a class method.\n",
    "# We can call other class methods, static methods inside a class method.  ALL(using [cls.method_name() ]).\n",
    "#\n",
    "# FOR OUTSIDE A CLASS:---\n",
    "# We can call(access) class method outside the class (using [classname ]) only."
   ]
  },
  {
   "cell_type": "code",
   "execution_count": null,
   "id": "2a0d96b9",
   "metadata": {},
   "outputs": [],
   "source": []
  },
  {
   "cell_type": "code",
   "execution_count": 9,
   "id": "448e93ca",
   "metadata": {},
   "outputs": [],
   "source": [
    "#                                            STATIC METHOD\n",
    "#                                       -----------------------\n",
    "# It is general utility method. It is common for all objects.\n",
    "# FOR INSIDE A CLASS:---\n",
    "# We can not CAMD instance variables inside a class method ,but we can CAMD static variables inside \n",
    "#  static method(using [classname ]).\n",
    "# We can not call instance method inside a static method.\n",
    "# We can call other static methods, class methods inside a static method.  ALL(using [classname.method_name() ]).\n",
    "#\n",
    "# FOR OUTSIDE A CLASS:---\n",
    "# We can call(access) static method outside the class (using [classname, object reference ])."
   ]
  },
  {
   "cell_type": "code",
   "execution_count": null,
   "id": "a583c668",
   "metadata": {},
   "outputs": [],
   "source": []
  },
  {
   "cell_type": "code",
   "execution_count": null,
   "id": "e2e1efd0",
   "metadata": {},
   "outputs": [],
   "source": [
    "#                                 SETTER AND GETTER METHOD \n",
    "#                            -------------------------------------\n",
    "# Its a alternative for constructor method. (we can use setter and getter method instead of constructor)\n",
    "# Its a best example of instance method.\n",
    "\n",
    "#  syntax for setter method :  def setname(self, var_name):\n",
    "#                                  self.var_name=var_name\n",
    "# syntax for getter method :  def getname(self):\n",
    "#                                  return self.var_name\n",
    "#\n",
    "# Setter method is generally used for creating instance variables.\n",
    "# Getter method is generally used to access instance variables.\n"
   ]
  }
 ],
 "metadata": {
  "kernelspec": {
   "display_name": "Python 3 (ipykernel)",
   "language": "python",
   "name": "python3"
  },
  "language_info": {
   "codemirror_mode": {
    "name": "ipython",
    "version": 3
   },
   "file_extension": ".py",
   "mimetype": "text/x-python",
   "name": "python",
   "nbconvert_exporter": "python",
   "pygments_lexer": "ipython3",
   "version": "3.9.13"
  }
 },
 "nbformat": 4,
 "nbformat_minor": 5
}
